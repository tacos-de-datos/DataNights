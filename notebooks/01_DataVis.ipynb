{
 "cells": [
  {
   "cell_type": "markdown",
   "metadata": {},
   "source": [
    "# DataNights-VISceral\n",
    "#### Código estructurado para las #DataNights de VISceral\n",
    "\n",
    "<details>\n",
    "    <summary><strong>Meta</strong></summary>\n",
    "    La meta de este notebook es recrear la visualización de <a href=\"https://twitter.com/moaimx\">@moaimx</a> que hizo en <a href=\"https://twitter.com/search?q=%23datanights&src=typed_query\">#DataNights</a>\n",
    "</details>\n",
    "\n",
    "<details>\n",
    "    <summary><strong>Contexto</strong></summary>\n",
    "    Limpiamos los datos en el Notebook anterior <a href=\"00_DataPrep.ipynb\">00_DataPrep</a> y ahora vamos a visualizarlos.\n",
    "    También seguiremos cercanamente los pasos para recrear lo que hicieron en los primeros dos episodios de DataNights:\n",
    "    <ul>\n",
    "        <li><a href=\"https://www.youtube.com/watch?v=K2cYa41zmdw\"> Episodio 1 </a></li>\n",
    "        <li><a href=\"https://www.youtube.com/watch?v=xxQlCioKTe8\"> Episodio 2 </a></li>\n",
    "    </ul>\n",
    "</details>"
   ]
  },
  {
   "cell_type": "code",
   "execution_count": null,
   "metadata": {},
   "outputs": [],
   "source": [
    "import pandas as pd\n",
    "import bokeh.plotting as bpl\n",
    "from pathlib import Path\n",
    "from herramientas import arbol\n",
    "from datetime import datetime as dt\n",
    "hoy = dt.today().strftime(\"%d-%b-%y\")\n",
    "\n",
    "hoy"
   ]
  },
  {
   "cell_type": "code",
   "execution_count": null,
   "metadata": {},
   "outputs": [],
   "source": [
    "DATOS_BRUTOS = Path(\"../datos/brutos/\")\n",
    "DATOS_INTERINOS = Path(\"../datos/interinos/\")\n",
    "DATOS_PROCESADOS = Path(\"../datos/procesados/\")\n",
    "DATOS_EXTERNOS = Path(\"../datos/externos/\")"
   ]
  },
  {
   "cell_type": "code",
   "execution_count": null,
   "metadata": {},
   "outputs": [],
   "source": [
    "arbol(DATOS_PROCESADOS)"
   ]
  },
  {
   "cell_type": "code",
   "execution_count": null,
   "metadata": {},
   "outputs": [],
   "source": [
    "carpetas = pd.read_csv(DATOS_PROCESADOS / 'carpetas-cuenta-30-May-19.csv')\n",
    "victimas = pd.read_csv(DATOS_PROCESADOS / 'victimas-cuenta-30-May-19.csv')"
   ]
  },
  {
   "cell_type": "code",
   "execution_count": null,
   "metadata": {},
   "outputs": [],
   "source": [
    "carpetas.head()"
   ]
  },
  {
   "cell_type": "code",
   "execution_count": null,
   "metadata": {},
   "outputs": [],
   "source": [
    "victimas.head()"
   ]
  },
  {
   "cell_type": "markdown",
   "metadata": {},
   "source": [
    "# Bokeh"
   ]
  },
  {
   "cell_type": "code",
   "execution_count": null,
   "metadata": {},
   "outputs": [],
   "source": [
    "bpl.output_notebook()"
   ]
  },
  {
   "cell_type": "code",
   "execution_count": null,
   "metadata": {},
   "outputs": [],
   "source": [
    "p = bpl.figure(\n",
    "    plot_width = 1080, \n",
    "    plot_height = 500, \n",
    "    x_range = carpetas['Fecha'],\n",
    "    title = 'Víctimas y Carpetas de Homicidios Dolosos 2015-2019 (marzo)',\n",
    "    toolbar_location = 'above'\n",
    ")"
   ]
  },
  {
   "cell_type": "code",
   "execution_count": null,
   "metadata": {},
   "outputs": [],
   "source": [
    "linea_carpetas = p.line(x = carpetas['Fecha'], y = carpetas['Cuenta (carpetas)'], color = \"#19267C\", )\n",
    "linea_victimas = p.line(x = victimas['Fecha'], y = victimas['Cuenta (victimas)'], color = \"#BA2121\", )"
   ]
  },
  {
   "cell_type": "code",
   "execution_count": null,
   "metadata": {},
   "outputs": [],
   "source": [
    "p.xaxis.major_label_orientation = 3.14/2\n",
    "p.xgrid.grid_line_color = None\n",
    "p.ygrid.grid_line_color = None\n",
    "p.title.text_font_size = \"18px\""
   ]
  },
  {
   "cell_type": "code",
   "execution_count": null,
   "metadata": {},
   "outputs": [],
   "source": [
    "from bokeh.models import Legend"
   ]
  },
  {
   "cell_type": "code",
   "execution_count": null,
   "metadata": {},
   "outputs": [],
   "source": [
    "legend = Legend(items=[\n",
    "    (\"Carpetas de investigación\"   , [linea_carpetas]),\n",
    "    (\"Víctimas\" , [linea_victimas]),\n",
    "\n",
    "], location=\"center\")\n",
    "\n",
    "p.add_layout(legend, 'right')"
   ]
  },
  {
   "cell_type": "code",
   "execution_count": null,
   "metadata": {},
   "outputs": [],
   "source": [
    "bpl.show(p)"
   ]
  }
 ],
 "metadata": {
  "kernelspec": {
   "display_name": "Python 3",
   "language": "python",
   "name": "python3"
  },
  "language_info": {
   "codemirror_mode": {
    "name": "ipython",
    "version": 3
   },
   "file_extension": ".py",
   "mimetype": "text/x-python",
   "name": "python",
   "nbconvert_exporter": "python",
   "pygments_lexer": "ipython3",
   "version": "3.7.1"
  }
 },
 "nbformat": 4,
 "nbformat_minor": 2
}
